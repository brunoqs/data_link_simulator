{
 "cells": [
  {
   "cell_type": "markdown",
   "metadata": {},
   "source": [
    "# Interface do envio de unidades de dados"
   ]
  },
  {
   "cell_type": "markdown",
   "metadata": {},
   "source": [
    "<i>Importando a biblioteca e os arquivos necessários</i>"
   ]
  },
  {
   "cell_type": "code",
   "execution_count": null,
   "metadata": {},
   "outputs": [],
   "source": [
    "from ipaddress import IPv4Address\n",
    "import csv\n",
    "from link_layer.data_link import data_link"
   ]
  },
  {
   "cell_type": "markdown",
   "metadata": {},
   "source": [
    "<i>O trecho de código a seguir cria um data_link e recebe um ip do socket fonte <br>e um ip do socket destino para fazer uma requisição\n",
    "   de dados.</i>"
   ]
  },
  {
   "cell_type": "code",
   "execution_count": 2,
   "metadata": {},
   "outputs": [
    {
     "name": "stdout",
     "output_type": "stream",
     "text": [
      "127.0.0.1\n",
      "127.0.0.1\n",
      "teste\n"
     ]
    }
   ],
   "source": [
    "data = data_link()#Construtor a ver\n",
    "#Digite o ip fonte:\n",
    "source_address = str(input())\n",
    "#Digite o ip destino:\n",
    "destination_address = str(input())\n",
    "l_sdu = str(input())"
   ]
  },
  {
   "cell_type": "markdown",
   "metadata": {},
   "source": [
    "<i>O trecho de código a seguir envia o dado requisitato por meio de um endereço de destino e um endereço fonte.</i>"
   ]
  },
  {
   "cell_type": "code",
   "execution_count": 3,
   "metadata": {},
   "outputs": [],
   "source": [
    "data.Data_Indication(IPv4Address(destination_address), IPv4Address(source_address), l_sdu)\n",
    "#enviado"
   ]
  },
  {
   "cell_type": "markdown",
   "metadata": {},
   "source": [
    "<i>O trecho de código a seguir executa o módulo de gerenciamento para exibir os resultados obtidos.</i>"
   ]
  },
  {
   "cell_type": "code",
   "execution_count": 4,
   "metadata": {},
   "outputs": [
    {
     "name": "stdout",
     "output_type": "stream",
     "text": [
      "['FRAME_TYPE', 'EVENT', 'DATE', 'TIME', 'FRAME_HEX'] \n",
      "\n",
      "['data_frame', 'msg_sent', '2018/07/15', '20:33:13', '0x7e05017f0000010000000074657374656220'] \n",
      "\n",
      "['ack_frame', 'msg_recv', '2018/07/15', '20:33:15', '0x7e017f0000017f000001'] \n",
      "\n"
     ]
    }
   ],
   "source": [
    "def manegement_module():\n",
    "    with open('indication_log.csv') as csvfile:\n",
    "        for reader in csv.reader(csvfile):\n",
    "            print(reader, \"\\n\")\n",
    "        \n",
    "manegement_module()"
   ]
  }
 ],
 "metadata": {
  "kernelspec": {
   "display_name": "Python 3",
   "language": "python",
   "name": "python3"
  },
  "language_info": {
   "codemirror_mode": {
    "name": "ipython",
    "version": 3
   },
   "file_extension": ".py",
   "mimetype": "text/x-python",
   "name": "python",
   "nbconvert_exporter": "python",
   "pygments_lexer": "ipython3",
   "version": "3.5.2"
  }
 },
 "nbformat": 4,
 "nbformat_minor": 2
}
