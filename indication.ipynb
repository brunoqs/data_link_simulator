{
 "cells": [
  {
   "cell_type": "markdown",
   "metadata": {},
   "source": [
    "# Interface do envio de unidades de dados"
   ]
  },
  {
   "cell_type": "markdown",
   "metadata": {},
   "source": [
    "<i>Próximo passo é invocar a primitiva do enlace de dados (data_link) que será responsável\n",
    "por enviar<br> os dados do usuário 'l_sdu' para o destino. O quadro do protocolo implementado\n",
    "aceita o payload<br> com no máximo 255 bytes (por exemplo, 'ç' são 2 bytes), então se o 'l_sdu'\n",
    "for maior do que<br> isso, a camada de enlace deverá criar vários quadros para poder entregar\n",
    "a mensagem completa<br> ao destino, mas isso é invisível no nível da aplicação, que é este nível.\n",
    "Também podem acontecer<br> erros de transmissão na camada física (physical_link), que também não\n",
    "podem atrapalhar a confiabilidade<br> do protocolo implementado.\n",
    "Aqui é garantido que qualquer<br> cadeia de caracteres será entregue ao destino. Ao final da execução,\n",
    "o arquivo 'indication_log.csv' <br>conterá todos os detalhes que aconteceram\n",
    "na camada de enlace da interface transmissora.</i>"
   ]
  },
  {
   "cell_type": "markdown",
   "metadata": {},
   "source": [
    "<i>Importando a biblioteca e os arquivos necessários</i>"
   ]
  },
  {
   "cell_type": "code",
   "execution_count": null,
   "metadata": {},
   "outputs": [],
   "source": [
    "from ipaddress import IPv4Address\n",
    "import csv\n",
    "from link_layer import data_link"
   ]
  },
  {
   "cell_type": "markdown",
   "metadata": {},
   "source": [
    "<i>O trecho de código a seguir recebe um ip do socket fonte e um ip do socket destino<br>para fazer uma requisição\n",
    "   de dados. Também recebe um dado 'l_sdu'.<br>\n",
    "   'l_sdu' é uma string de tamanho arbitrário que o usuário deseja enviar ao outro <br>\n",
    "   host. Aqui ele digita essa mensagem.</i>"
   ]
  },
  {
   "cell_type": "code",
   "execution_count": null,
   "metadata": {},
   "outputs": [],
   "source": [
    "#Digite o ip fonte:\n",
    "source_address = str(input())\n",
    "#Digite o ip destino:\n",
    "destination_address = str(input())\n",
    "l_sdu = str(input())"
   ]
  },
  {
   "cell_type": "markdown",
   "metadata": {},
   "source": [
    "<i>O trecho de código a seguir envia o dado requisitato por meio de um endereço de destino e um endereço fonte.</i>"
   ]
  },
  {
   "cell_type": "code",
   "execution_count": null,
   "metadata": {},
   "outputs": [],
   "source": [
    "data_link.Data_Indication(IPv4Address(destination_address), IPv4Address(source_address), l_sdu)"
   ]
  },
  {
   "cell_type": "markdown",
   "metadata": {},
   "source": [
    "<i>O trecho de código a seguir executa o módulo de gerenciamento para exibir os resultados obtidos.</i>"
   ]
  },
  {
   "cell_type": "code",
   "execution_count": null,
   "metadata": {},
   "outputs": [],
   "source": [
    "def manegement_module():\n",
    "    with open('indication_log.csv') as csvfile:\n",
    "        for reader in csv.reader(csvfile):\n",
    "            print(reader, \"\\n\")\n",
    "        \n",
    "manegement_module()"
   ]
  }
 ],
 "metadata": {
  "kernelspec": {
   "display_name": "Python 3",
   "language": "python",
   "name": "python3"
  },
  "language_info": {
   "codemirror_mode": {
    "name": "ipython",
    "version": 3
   },
   "file_extension": ".py",
   "mimetype": "text/x-python",
   "name": "python",
   "nbconvert_exporter": "python",
   "pygments_lexer": "ipython3",
   "version": "3.5.2"
  }
 },
 "nbformat": 4,
 "nbformat_minor": 2
}
