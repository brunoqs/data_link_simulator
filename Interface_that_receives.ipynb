{
 "cells": [
  {
   "cell_type": "markdown",
   "metadata": {},
   "source": [
    "# Interface da recepção de unidades de dados"
   ]
  },
  {
   "cell_type": "markdown",
   "metadata": {},
   "source": [
    "<i>Aqui o usuário na outra ponta do enlace recebe a mensagem que está enviada a ele, o 'l_sdu'.\n",
    "Para isso, usa a<br> primitiva da camada de enlace (data_link) que será responsável por ficar\n",
    "escutando a rede e retornar os<br> dados entregues. Por causa de adversidades na rede, alguns \n",
    "quadros podem ficar comprometidos,<br> mas isso é invisível ao usuário, sendo que a camada de enlace\n",
    "deste lado comunica quando houve<br> erros e pede o quadro novamente. Caso esteja tudo correto, comunica\n",
    "que pode enviar o próximo quadro.</i>"
   ]
  },
  {
   "cell_type": "markdown",
   "metadata": {},
   "source": [
    "<i>Importando a biblioteca e os arquivos necessários.</i>"
   ]
  },
  {
   "cell_type": "code",
   "execution_count": 1,
   "metadata": {},
   "outputs": [
    {
     "ename": "ImportError",
     "evalue": "No module named 'link_layer'",
     "output_type": "error",
     "traceback": [
      "\u001b[0;31m---------------------------------------------------------------------------\u001b[0m",
      "\u001b[0;31mImportError\u001b[0m                               Traceback (most recent call last)",
      "\u001b[0;32m<ipython-input-1-bc14ee45a76c>\u001b[0m in \u001b[0;36m<module>\u001b[0;34m()\u001b[0m\n\u001b[1;32m      1\u001b[0m \u001b[0;32mimport\u001b[0m \u001b[0mipaddress\u001b[0m\u001b[0;34m\u001b[0m\u001b[0m\n\u001b[1;32m      2\u001b[0m \u001b[0;32mimport\u001b[0m \u001b[0mcsv\u001b[0m\u001b[0;34m\u001b[0m\u001b[0m\n\u001b[0;32m----> 3\u001b[0;31m \u001b[0;32mfrom\u001b[0m \u001b[0mlink_layer\u001b[0m\u001b[0;34m.\u001b[0m\u001b[0mdata_link\u001b[0m \u001b[0;32mimport\u001b[0m \u001b[0mdata_link\u001b[0m\u001b[0;34m\u001b[0m\u001b[0m\n\u001b[0m",
      "\u001b[0;31mImportError\u001b[0m: No module named 'link_layer'"
     ]
    }
   ],
   "source": [
    "from ipaddress import IPv4Address\n",
    "import csv\n",
    "from link_layer.data_link import data_link"
   ]
  },
  {
   "cell_type": "markdown",
   "metadata": {},
   "source": [
    "<i>O trecho de código a seguir recebe um ip do socket fonte e um ip do socket destino.<br></i>"
   ]
  },
  {
   "cell_type": "code",
   "execution_count": null,
   "metadata": {},
   "outputs": [],
   "source": [
    "#Digite o ip fonte:\n",
    "source_address = str(input())\n",
    "#Digite o ip destino:\n",
    "destination_address = str(input())"
   ]
  },
  {
   "cell_type": "markdown",
   "metadata": {},
   "source": [
    "<i>O trecho de código a seguir faz a requisição dos dados, informando o endereço de destino.</i>"
   ]
  },
  {
   "cell_type": "code",
   "execution_count": null,
   "metadata": {},
   "outputs": [],
   "source": [
    "data_link.Data_Request(IPv4Address(destination_address), IPv4Address(source_address))"
   ]
  },
  {
   "cell_type": "markdown",
   "metadata": {},
   "source": [
    "<i>O trecho de código a seguir executa o módulo de gerenciamento para exibir os resultados obtidos.</i>"
   ]
  },
  {
   "cell_type": "code",
   "execution_count": null,
   "metadata": {},
   "outputs": [],
   "source": [
    "def manegement_module():\n",
    "    with open('request_log.csv') as csvfile:\n",
    "        for reader in csv.reader(csvfile):\n",
    "            print(reader, \"\\n\")\n",
    "        \n",
    "manegement_module()"
   ]
  }
 ],
 "metadata": {
  "kernelspec": {
   "display_name": "Python 3",
   "language": "python",
   "name": "python3"
  },
  "language_info": {
   "codemirror_mode": {
    "name": "ipython",
    "version": 3
   },
   "file_extension": ".py",
   "mimetype": "text/x-python",
   "name": "python",
   "nbconvert_exporter": "python",
   "pygments_lexer": "ipython3",
   "version": "3.5.2"
  }
 },
 "nbformat": 4,
 "nbformat_minor": 2
}
